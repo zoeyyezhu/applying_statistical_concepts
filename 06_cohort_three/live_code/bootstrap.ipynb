{
 "cells": [
  {
   "cell_type": "code",
   "execution_count": 7,
   "id": "9d73dd10-f151-46d1-bb36-c509887c60c5",
   "metadata": {},
   "outputs": [
    {
     "name": "stdout",
     "output_type": "stream",
     "text": [
      "Bootstrap Mean: 8.9584\n",
      "95% Confidence Interval: [ 6.2 12. ]\n"
     ]
    }
   ],
   "source": [
    "import numpy as np\n",
    "\n",
    "# Original data\n",
    "data = np.array([5, 7, 8, 10, 15])\n",
    "\n",
    "# Number of bootstrap samples\n",
    "B = 1000\n",
    "\n",
    "# Function to generate bootstrap samples and compute the statistic (mean)\n",
    "bootstrap_means = []\n",
    "n = len(data)\n",
    "\n",
    "for i in range(B):\n",
    "    bootstrap_sample = np.random.choice(data, size=n, replace=True)\n",
    "    bootstrap_means.append(np.mean(bootstrap_sample))\n",
    "\n",
    "# Convert to numpy array for easier manipulation\n",
    "bootstrap_means = np.array(bootstrap_means)\n",
    "\n",
    "# Compute the 95% confidence interval\n",
    "conf_interval = np.percentile(bootstrap_means, [2.5, 97.5]) # Compute the 2.5% and 97.5% percentile\n",
    "\n",
    "print(f\"Bootstrap Mean: {np.mean(bootstrap_means)}\")\n",
    "print(f\"95% Confidence Interval: {conf_interval}\")"
   ]
  },
  {
   "cell_type": "code",
   "execution_count": null,
   "id": "b18cf2a7-849e-42c9-8676-bbaa8f1dd3ed",
   "metadata": {},
   "outputs": [],
   "source": []
  }
 ],
 "metadata": {
  "kernelspec": {
   "display_name": "dsi",
   "language": "python",
   "name": "dsi"
  },
  "language_info": {
   "codemirror_mode": {
    "name": "ipython",
    "version": 3
   },
   "file_extension": ".py",
   "mimetype": "text/x-python",
   "name": "python",
   "nbconvert_exporter": "python",
   "pygments_lexer": "ipython3",
   "version": "3.12.3"
  }
 },
 "nbformat": 4,
 "nbformat_minor": 5
}
