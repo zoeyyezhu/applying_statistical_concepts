{
 "cells": [
  {
   "cell_type": "markdown",
   "id": "b9c9b692-783e-4906-b4a7-585c670e78b3",
   "metadata": {},
   "source": [
    "# P-values and hypothesis testing"
   ]
  },
  {
   "cell_type": "markdown",
   "id": "cb4a6c46-4faa-4ad9-8f59-1b27ec306864",
   "metadata": {},
   "source": [
    "The p value is a number, calculated from a statistical test (such as t-statistic or F-statistic we have seen previously), that describes how likely you are to have found a particular set of observations if the null hypothesis were true."
   ]
  },
  {
   "cell_type": "markdown",
   "id": "a96aa4c9-95ce-4013-948f-b1972663881a",
   "metadata": {},
   "source": [
    "A small p-value (typically ≤ 0.05) indicates strong evidence against the null hypothesis, so you reject it"
   ]
  },
  {
   "cell_type": "markdown",
   "id": "52f06905-137d-4233-8f41-1bdf861955a6",
   "metadata": {},
   "source": [
    "For example, we have calculated a **z-statistic = 5** from the sample data we collected"
   ]
  },
  {
   "cell_type": "markdown",
   "id": "42dffc52-dbfb-4a77-8868-7284fbacc04b",
   "metadata": {},
   "source": [
    "We know that z-statistic should follow a normal distribution if $H_0$ is true"
   ]
  },
  {
   "cell_type": "markdown",
   "id": "fbd44ed6-cc29-4d4c-8fca-f964fb690660",
   "metadata": {},
   "source": [
    "![image info](z.png)"
   ]
  },
  {
   "cell_type": "markdown",
   "id": "9e2259a4-c5cb-4def-8278-5c5937dc0059",
   "metadata": {},
   "source": [
    "We only use 0.05 as the threshold value, in stats term it’s also called as “alpha level”, which means there is a less than 5% chance that the data being tested could have occurred under the null hypothesis."
   ]
  },
  {
   "cell_type": "markdown",
   "id": "1f48770b-9988-488f-9b0c-f63cf1ba5399",
   "metadata": {},
   "source": [
    "Find the critical value:\n",
    "    Probability(Z≤-2) = Probability(Z≥2) = (approximately) = **0.05**/2 = 0.025"
   ]
  },
  {
   "cell_type": "markdown",
   "id": "1fb95649-b276-47ae-b7e6-d137f2429dac",
   "metadata": {},
   "source": [
    "Compare z-statistic = 5 with 2, since 5>2, so we should reject H0"
   ]
  },
  {
   "cell_type": "code",
   "execution_count": null,
   "id": "1a5d4dd1-a9f1-4a42-9573-51d5a080ee17",
   "metadata": {},
   "outputs": [],
   "source": []
  }
 ],
 "metadata": {
  "kernelspec": {
   "display_name": "dsi",
   "language": "python",
   "name": "dsi"
  },
  "language_info": {
   "codemirror_mode": {
    "name": "ipython",
    "version": 3
   },
   "file_extension": ".py",
   "mimetype": "text/x-python",
   "name": "python",
   "nbconvert_exporter": "python",
   "pygments_lexer": "ipython3",
   "version": "3.12.3"
  }
 },
 "nbformat": 4,
 "nbformat_minor": 5
}
