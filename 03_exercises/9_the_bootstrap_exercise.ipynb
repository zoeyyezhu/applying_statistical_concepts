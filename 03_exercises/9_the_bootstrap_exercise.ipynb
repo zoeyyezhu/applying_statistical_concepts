{
 "cells": [
  {
   "cell_type": "markdown",
   "id": "2ee216ac-cbc1-4576-a6c2-74e6ae2ff2c9",
   "metadata": {},
   "source": [
    "# 6.4: Resampling Exercises"
   ]
  },
  {
   "cell_type": "markdown",
   "id": "451fa372-7eb2-43e8-bbf5-429bc446f0a0",
   "metadata": {},
   "source": [
    "## Getting Started\n",
    "\n",
    "### Import Libraries \n",
    "\n",
    "We import our standard libraries and specific objects/libraries at the top level of our notebook."
   ]
  },
  {
   "cell_type": "code",
   "execution_count": null,
   "id": "6edbc31d-be7c-4dd3-bb07-a9f681754433",
   "metadata": {},
   "outputs": [],
   "source": [
    "# Load our previous libraries and objects\n",
    "import numpy as np\n",
    "from ISLP import load_data"
   ]
  },
  {
   "cell_type": "markdown",
   "id": "4b2be2e8-fc23-4137-8537-ec035ffdfa0f",
   "metadata": {},
   "source": [
    "## The Bootstrap"
   ]
  },
  {
   "cell_type": "markdown",
   "id": "ff5bbf66-b518-430a-8def-51eae4edba7c",
   "metadata": {},
   "source": [
    "The bootstrap approach can be applied in almost all situations. While there are several implementations of the bootstrap in Python, its use for estimating standard error is simple enough that we write our own function below for the case when our data is stored in a dataframe. We will use the `Portfolio` data set in the `ISLP` package to illustrate.\n",
    "\n",
    "We will create a function `alpha_func()`, which takes as input a dataframe `D` assumed\n",
    "to have columns `X` and `Y`, as well as a\n",
    "vector `idx` indicating which observations should be used to\n",
    "estimate \n",
    "$\\alpha$. The function then outputs the estimate for $\\alpha$ based on\n",
    "the selected observations."
   ]
  },
  {
   "cell_type": "markdown",
   "id": "98f67f46-ea75-4f87-96ef-d8a3120d728e",
   "metadata": {},
   "source": [
    "$$\n",
    "\\hat{\\alpha} = \\frac{\\hat{\\sigma}_{Y}^2-\\hat{\\sigma}_{XY}}{\\hat{\\sigma}_{X}^2+\\hat{\\sigma}_{Y}^2-2\\hat{\\sigma}_{XY}}\n",
    "$$"
   ]
  },
  {
   "cell_type": "code",
   "execution_count": null,
   "id": "07cd0632-1ae7-463e-8e0f-6504fb70f3a1",
   "metadata": {},
   "outputs": [],
   "source": [
    "Portfolio = load_data('Portfolio')\n",
    "def alpha_func(D, idx):\n",
    "   cov_ = np.cov(D[['X','Y']].loc[idx], rowvar=False) # https://numpy.org/doc/stable/reference/generated/numpy.cov.html\n",
    "   return ((cov_[1,1] - cov_[0,1]) /\n",
    "           (cov_[0,0]+cov_[1,1]-2*cov_[0,1]))"
   ]
  },
  {
   "cell_type": "markdown",
   "id": "5244b3fc-be11-4566-8dcf-603e0035e796",
   "metadata": {},
   "source": [
    "The following command estimates $\\alpha$ using all 100 observations."
   ]
  },
  {
   "cell_type": "code",
   "execution_count": null,
   "id": "6e4973de-b821-4af8-8e0f-61befe6d86a8",
   "metadata": {},
   "outputs": [],
   "source": [
    "alpha_func(Portfolio, range(100))"
   ]
  },
  {
   "cell_type": "markdown",
   "id": "57e226aa-b7cf-49cc-9b57-2b716e163457",
   "metadata": {},
   "source": [
    "Next we randomly select 100 observations from range(100), with replacement. This is equivalent to constructing **one** new bootstrap sample and recomputing $\\alpha$ based on the new data set."
   ]
  },
  {
   "cell_type": "code",
   "execution_count": null,
   "id": "71bfd7c4-02b0-45ad-99f4-616ace0f044c",
   "metadata": {},
   "outputs": [],
   "source": [
    "rng = np.random.default_rng(0) # control randomness, refer to https://numpy.org/doc/stable/reference/random/generator.html\n",
    "alpha_func(D=Portfolio,\n",
    "           idx=rng.choice(100, 100, replace=True))"
   ]
  },
  {
   "cell_type": "markdown",
   "id": "0ee315a5-d48e-4c57-b406-c2940c04e794",
   "metadata": {},
   "source": [
    "## Estimate standard deviation of $\\hat{\\alpha}$"
   ]
  },
  {
   "cell_type": "code",
   "execution_count": null,
   "id": "4c616715-c7e3-4230-a313-58ba81bdd69d",
   "metadata": {},
   "outputs": [],
   "source": [
    "bootstrap_values = []\n",
    "\n",
    "def boot_SE(D, B=1000, seed=0):\n",
    "    rng = np.random.default_rng(seed)\n",
    "    first_, second_ = 0, 0\n",
    "    n = D.shape[0]\n",
    "    for i in range(B):\n",
    "        idx = rng.choice(D.index,\n",
    "                         n,\n",
    "                         replace=True)\n",
    "        value = alpha_func(D, idx)\n",
    "        bootstrap_values.append(value)\n",
    "        \n",
    "    return np.std(np.array(bootstrap_values))"
   ]
  },
  {
   "cell_type": "markdown",
   "id": "fc49225f-368c-467a-90c8-be415fc10a46",
   "metadata": {},
   "source": [
    "Let’s use our function to evaluate the accuracy of our estimate of $\\alpha$ using $B = 1,000$ bootstrap replications."
   ]
  },
  {
   "cell_type": "code",
   "execution_count": null,
   "id": "5c693db4-e496-4c57-99db-f558c6213874",
   "metadata": {},
   "outputs": [],
   "source": [
    "alpha_SE = boot_SE(D=Portfolio,\n",
    "                   B=1000,\n",
    "                   seed=0)\n",
    "alpha_SE"
   ]
  },
  {
   "cell_type": "markdown",
   "id": "f6ee815d-2369-45bb-862f-baddb290820d",
   "metadata": {},
   "source": [
    "The final output shows that the bootstrap estimate for ${\\rm SE}(\\hat{\\alpha})$ is $0.0912$."
   ]
  },
  {
   "cell_type": "markdown",
   "id": "278c6959-9713-480a-bbe7-b58502a9d49f",
   "metadata": {},
   "source": [
    "*These exercises were adapted from :* James, Gareth, et al. An Introduction to Statistical Learning: with Applications in Python, Springer, 2023."
   ]
  }
 ],
 "metadata": {
  "kernelspec": {
   "display_name": "dsi",
   "language": "python",
   "name": "dsi"
  },
  "language_info": {
   "codemirror_mode": {
    "name": "ipython",
    "version": 3
   },
   "file_extension": ".py",
   "mimetype": "text/x-python",
   "name": "python",
   "nbconvert_exporter": "python",
   "pygments_lexer": "ipython3",
   "version": "3.12.3"
  }
 },
 "nbformat": 4,
 "nbformat_minor": 5
}
