{
 "cells": [
  {
   "cell_type": "markdown",
   "id": "dd7c50c1-ffb3-40f1-aed2-fb18b05aaa1c",
   "metadata": {},
   "source": [
    "# 3: Multiple Linear Regression Exercise"
   ]
  },
  {
   "cell_type": "markdown",
   "id": "63cf6041-c737-4f73-950a-4d43daa13adb",
   "metadata": {},
   "source": [
    "### Getting Started\n",
    "#### Import Libraries \n",
    "We import our standard libraries and specific objects/libraries at the top level of our notebook. By adding only specific objects from key modules, such as `statmodels`, we keep our *namespace* more organized. "
   ]
  },
  {
   "cell_type": "code",
   "execution_count": null,
   "id": "e4a6ede7-9f6e-4053-aa35-b7927ea3964f",
   "metadata": {},
   "outputs": [],
   "source": [
    "# Import libraries and objects\n",
    "import statsmodels.api as sm\n",
    "import matplotlib.pyplot as plt\n",
    "import warnings # for muting warning messages\n",
    "# mute warning messages\n",
    "warnings.filterwarnings('ignore')\n",
    "from ISLP import load_data\n",
    "from ISLP.models import (ModelSpec as MS,\n",
    "                         summarize)"
   ]
  },
  {
   "cell_type": "markdown",
   "id": "afdd9bd1-62b5-4b83-9e22-2ef1f9800083",
   "metadata": {},
   "source": [
    "Let's take a look at the `Boston` data set"
   ]
  },
  {
   "cell_type": "code",
   "execution_count": null,
   "id": "79406cd6-14de-4318-b711-cbe6e0c5c8bd",
   "metadata": {},
   "outputs": [],
   "source": [
    "# Load the \"Boston\" dataset using the \"load_data\" function from the ISLP package\n",
    "Boston = load_data('Boston')\n",
    "Boston"
   ]
  },
  {
   "cell_type": "markdown",
   "id": "6508f966-1f84-4d29-b91d-c3713a857bab",
   "metadata": {},
   "source": [
    "Hint: Type `Boston` to find out more about the dataset."
   ]
  },
  {
   "cell_type": "markdown",
   "id": "956cec7e-13fa-46d8-b2e6-30f9b4d9892b",
   "metadata": {},
   "source": [
    "### Multiple Linear Regression\n",
    "\n",
    "To fit a multiple linear regression model using least squares, we again use the `ModelSpec()` transform to construct the required model matrix and response. The arguments to `ModelSpec()` can be quite general, but in this case a list of column names is fine. We consider a fit here with the two variables `rm` and `nox`."
   ]
  },
  {
   "cell_type": "code",
   "execution_count": null,
   "id": "ac5d05be-2862-49c7-a70d-a73feacd919e",
   "metadata": {},
   "outputs": [],
   "source": [
    "y = Boston['medv']\n",
    "X = MS(['rm', 'nox']).fit_transform(Boston)\n",
    "model1 = sm.OLS(y, X)\n",
    "results1 = model1.fit()\n",
    "summarize(results1)"
   ]
  },
  {
   "cell_type": "markdown",
   "id": "16cd9729-16a7-4f87-a9eb-950cd59db298",
   "metadata": {},
   "source": [
    "Notice how we have compacted the first line into a succinct expression describing the construction of `X`.\n",
    "\n",
    "The `Boston` data set contains 12 variables, and so it would be cumbersome to have to type all of these in order to perform a regression using all of the predictors. Instead, we can use the following short-hand:"
   ]
  },
  {
   "cell_type": "code",
   "execution_count": null,
   "id": "fa09b615-4430-4a10-8a67-fcc2bd64d866",
   "metadata": {},
   "outputs": [],
   "source": [
    "terms = Boston.columns.drop('medv')\n",
    "terms"
   ]
  },
  {
   "cell_type": "markdown",
   "id": "826022a2-15da-4353-9b0f-42d7db79ecad",
   "metadata": {},
   "source": [
    "We can now fit the model with all the variables in `terms` using the same model matrix builder."
   ]
  },
  {
   "cell_type": "code",
   "execution_count": null,
   "id": "683522e3-85a5-48e4-a279-5681c9cd444e",
   "metadata": {},
   "outputs": [],
   "source": [
    "X = MS(terms).fit_transform(Boston)\n",
    "model = sm.OLS(y, X)\n",
    "results = model.fit()\n",
    "summarize(results)"
   ]
  },
  {
   "cell_type": "markdown",
   "id": "192691a3-bc1c-4208-8ed9-252704ba0fcb",
   "metadata": {},
   "source": [
    "What if we would like to perform a regression using all of the variables but one? For example, in the above regression output, `age` has a high $p$`-value`. So we may wish to run a regression excluding this predictor. The following syntax results in a regression using all predictors except `age`."
   ]
  },
  {
   "cell_type": "code",
   "execution_count": null,
   "id": "0658a85e-b5d2-4b54-a2af-b69019a6176a",
   "metadata": {},
   "outputs": [],
   "source": [
    "minus_age = Boston.columns.drop(['medv', 'age']) \n",
    "Xma = MS(minus_age).fit_transform(Boston)\n",
    "model1 = sm.OLS(y, Xma)\n",
    "summarize(model1.fit())"
   ]
  },
  {
   "cell_type": "markdown",
   "id": "e9f40afd-d823-428b-8a61-957023560684",
   "metadata": {},
   "source": [
    "### Qualitative Predictors\n",
    "\n",
    "Here we use the `Boston` data again. \n",
    "\n",
    "We can examine the relationship between `medv` and `chas`, where\n",
    "\n",
    "\\begin{align*}\n",
    "\\text{chas} = \\left\\{\\begin{array}{ll}\n",
    "1 & \\text { if tract bounds Charles River} \\\\\n",
    "0 & \\text { if not}\n",
    "\\end{array}\\right\\}\n",
    "\\end{align*}\n"
   ]
  },
  {
   "cell_type": "code",
   "execution_count": null,
   "id": "8a6e12a4-d254-4984-b19b-23ad3691676d",
   "metadata": {},
   "outputs": [],
   "source": [
    "# Perform regression\n",
    "model = sm.OLS.from_formula('medv ~ chas', data=Boston)\n",
    "result = model.fit()\n",
    "\n",
    "# Print the summary of the regression\n",
    "print(result.summary())"
   ]
  },
  {
   "cell_type": "markdown",
   "id": "c629a7b9-2577-47ea-96bb-e96b11783189",
   "metadata": {},
   "source": [
    "$\\hat \\beta_0 = 22.094$: the average median house value for suburbs that are not bound by the Charles river.\n",
    "\n",
    "$\\hat \\beta_1 = 6.346$: the difference in the average median house value for suburbs that are bound by the Charles River versus those that are not."
   ]
  },
  {
   "cell_type": "markdown",
   "id": "3efd4b11-081a-493e-8cba-8f81a747da82",
   "metadata": {},
   "source": [
    "### Interaction Term\n",
    "\n",
    "Let's look at the relationship between the response `medv` and the predictors `lstat` (the percent of households with low socioeconomic status) and `age` (the percent of homes built prior to 1940). We can also include the interaction term between `lstat` and `age`.\n",
    "\n",
    "The syntax used to implement this is `lm(y ~ x1 + x2 + x1:x2, data)` or `lm(y ~ x1 * x2, data)` for shorthand."
   ]
  },
  {
   "cell_type": "code",
   "execution_count": null,
   "id": "7f916189-f92a-497a-aaad-3dc99b92db0c",
   "metadata": {},
   "outputs": [],
   "source": [
    "model = sm.OLS.from_formula('medv ~ lstat * age', data=Boston)\n",
    "result = model.fit()\n",
    "\n",
    "# Print the summary of the regression\n",
    "print(result.summary())"
   ]
  },
  {
   "cell_type": "markdown",
   "id": "f82a3d81-e48b-4150-a3a6-4c99112ddbf5",
   "metadata": {},
   "source": [
    "The interaction term has a $p$-value of $0.025$. Even though the $p$-value for `age` is not significant, we will still include it in our model due to the hierarchical principal."
   ]
  },
  {
   "cell_type": "markdown",
   "id": "baa1b220-c35d-4b39-a3ee-729f634f22d6",
   "metadata": {},
   "source": [
    "### Helpful plots\n",
    "\n",
    "There are a few plots that we discussed that can help to identify problems with our data or with our fit."
   ]
  },
  {
   "cell_type": "code",
   "execution_count": null,
   "id": "fb7478a4-ca8d-4000-b64f-5773f9e3065e",
   "metadata": {},
   "outputs": [],
   "source": [
    "model = sm.OLS.from_formula('medv ~ rm', data=Boston)\n",
    "result = model.fit()\n",
    "\n",
    "# Plot the specified diagnostic plots\n",
    "fig, ax = plt.subplots(1, 2, figsize=(12, 5))\n",
    "\n",
    "# Residuals vs. Fitted Values Plot\n",
    "sm.graphics.plot_regress_exog(result, 'rm', fig=fig)\n",
    "\n",
    "# Studentized Residuals vs. Fitted Values Plot\n",
    "ax[1].scatter(result.fittedvalues, result.get_influence().resid_studentized_internal, alpha=0.8)\n",
    "ax[1].set_xlabel('Fitted Values')\n",
    "ax[1].set_ylabel('Studentized Residuals')\n",
    "\n",
    "plt.show()"
   ]
  },
  {
   "cell_type": "code",
   "execution_count": null,
   "id": "870e76cc-fe41-4e07-87eb-784a9fbcd8c1",
   "metadata": {},
   "outputs": [],
   "source": [
    "# Fit a linear regression model\n",
    "model = sm.OLS.from_formula('medv ~ rm', data=Boston)\n",
    "result = model.fit()\n",
    "\n",
    "# Get the predicted values and studentized residuals\n",
    "predicted_values = result.predict()\n",
    "studentized_residuals = result.get_influence().resid_studentized_internal\n",
    "\n",
    "# Plot the Studentized Residuals vs. Fitted Values\n",
    "plt.scatter(predicted_values, studentized_residuals, alpha=0.8)\n",
    "plt.xlabel('Fitted Values')\n",
    "plt.ylabel('Studentized Residuals')\n",
    "plt.title('Studentized Residuals vs. Fitted Values')\n",
    "plt.show()"
   ]
  },
  {
   "cell_type": "markdown",
   "id": "9d6fa813-dca6-4e5a-a110-a34f6d8ccfc8",
   "metadata": {},
   "source": [
    "***What information about our fitted model can you gather from these plots? Are there any outliers or high leverage points?***\n",
    "\n",
    "***Fit a linear regression model on the `Boston` data set including all the predictors. The shorthand for this is `lm(medv ~ .)`. Interpret the summary including the hypothesis tests for the coefficients and the RSE and $R^2 values. Make plots of the fit including confidence intervals for the fitted line. Recreate and interpret the three plots we have just made using your new fit.***\n",
    "\n",
    "Ask for help if you get stuck!\n"
   ]
  },
  {
   "cell_type": "markdown",
   "id": "7bc2a43a-24bd-44bd-b141-a82cb76e1a3f",
   "metadata": {},
   "source": [
    "*These exercises were adapted from :* James, Gareth, et al. An Introduction to Statistical Learning: with Applications in Python, Springer, 2023."
   ]
  }
 ],
 "metadata": {
  "kernelspec": {
   "display_name": "Python 3 (ipykernel)",
   "language": "python",
   "name": "python3"
  },
  "language_info": {
   "codemirror_mode": {
    "name": "ipython",
    "version": 3
   },
   "file_extension": ".py",
   "mimetype": "text/x-python",
   "name": "python",
   "nbconvert_exporter": "python",
   "pygments_lexer": "ipython3",
   "version": "3.12.3"
  },
  "vscode": {
   "interpreter": {
    "hash": "497a84dc8fec8cf8d24e7e87b6d954c9a18a327edc66feb9b9ea7e9e72cc5c7e"
   }
  }
 },
 "nbformat": 4,
 "nbformat_minor": 5
}
