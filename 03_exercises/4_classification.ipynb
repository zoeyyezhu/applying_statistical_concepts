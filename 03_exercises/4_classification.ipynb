{
 "cells": [
  {
   "cell_type": "markdown",
   "id": "b2d65d0f-c2a0-462e-9f37-96917af2dcb1",
   "metadata": {},
   "source": [
    "# Classification Exercises"
   ]
  },
  {
   "cell_type": "markdown",
   "id": "eb710870-1b5c-4338-9457-e2d8582b8c9c",
   "metadata": {},
   "source": [
    "## Getting Started\n",
    "\n",
    "### Import Libraries \n",
    "\n",
    "We import our standard libraries and specific objects/libraries at the top level of our notebook."
   ]
  },
  {
   "cell_type": "code",
   "execution_count": null,
   "id": "13747451-369c-4b0b-9366-3fb829982ee9",
   "metadata": {},
   "outputs": [],
   "source": [
    "# Import libraries and objects\n",
    "import numpy as np\n",
    "from ISLP import load_data\n",
    "from ISLP.models import ModelSpec as MS\n",
    "import warnings \n",
    "warnings.filterwarnings('ignore') # mute warning messages\n",
    "from ISLP import confusion_table\n",
    "from sklearn.neighbors import KNeighborsClassifier"
   ]
  },
  {
   "cell_type": "markdown",
   "id": "0faad588-7276-4949-9742-a5b45f7646d0",
   "metadata": {},
   "source": [
    "First, load our `Smarket` data."
   ]
  },
  {
   "cell_type": "code",
   "execution_count": null,
   "id": "4066a916-ed0b-49ee-aad4-ec07d0d4fb03",
   "metadata": {},
   "outputs": [],
   "source": [
    "Smarket = load_data('Smarket')\n",
    "Smarket"
   ]
  },
  {
   "cell_type": "markdown",
   "id": "8f638ab4-4681-48cf-8edc-f441ff7bdbda",
   "metadata": {},
   "source": [
    "We can view the variables names."
   ]
  },
  {
   "cell_type": "code",
   "execution_count": null,
   "id": "c182787f-eeb5-4826-a928-fd48442bd248",
   "metadata": {},
   "outputs": [],
   "source": [
    "Smarket.columns"
   ]
  },
  {
   "cell_type": "markdown",
   "id": "16a3d6e4-ff46-4fdf-9730-7c0c457c5339",
   "metadata": {},
   "source": [
    "### K-Nearest Neighbors\n",
    "\n",
    "We will now perform KNN using the `KNeighborsClassifier()` function. This function is similar\n",
    "to the other model-fitting functions we've used throughout these exercises."
   ]
  },
  {
   "cell_type": "code",
   "execution_count": null,
   "id": "d18870a9-9be9-4ebf-8781-0875f2ae835c",
   "metadata": {},
   "outputs": [],
   "source": [
    "allvars = Smarket.columns.drop(['Today', 'Direction', 'Year'])\n",
    "design = MS(allvars)\n",
    "\n",
    "train = (Smarket.Year < 2005)\n",
    "Smarket_train = Smarket.loc[train]\n",
    "Smarket_test = Smarket.loc[~train]\n",
    "Smarket_test.shape"
   ]
  },
  {
   "cell_type": "code",
   "execution_count": null,
   "id": "256a763f-bcc4-45df-bdae-2c9f29c7dd85",
   "metadata": {},
   "outputs": [],
   "source": [
    "X = design.fit_transform(Smarket)\n",
    "X_train, X_test = X.loc[train], X.loc[~train]\n",
    "\n",
    "D = Smarket.Direction\n",
    "L_train, L_test = D.loc[train], D.loc[~train]\n",
    "\n",
    "knn1 = KNeighborsClassifier(n_neighbors=1) # API reference: https://scikit-learn.org/stable/modules/generated/sklearn.neighbors.KNeighborsClassifier.html\n",
    "X_train, X_test = [np.asarray(X) for X in [X_train, X_test]]\n",
    "knn1.fit(X_train, L_train)\n",
    "knn1_pred = knn1.predict(X_test)\n",
    "confusion_table(knn1_pred, L_test)"
   ]
  },
  {
   "cell_type": "markdown",
   "id": "a8cea554-fd9e-4c92-85f6-c656aa321589",
   "metadata": {},
   "source": [
    "The results using $K=1$ are not very good, since only $50%$ of the\n",
    "observations are correctly predicted. Of course, it may be that $K=1$\n",
    "results in an overly-flexible fit to the data."
   ]
  },
  {
   "cell_type": "code",
   "execution_count": null,
   "id": "7a360d4a-e304-4431-9cf5-2516f00e3448",
   "metadata": {},
   "outputs": [],
   "source": [
    "np.mean(knn1_pred == L_test)"
   ]
  },
  {
   "cell_type": "markdown",
   "id": "4b6f4213-f6fc-47ca-8f3c-771c8a0843d3",
   "metadata": {},
   "source": [
    "As we can see KNN for $K=1$ only gives 50% accuracy which is no better than random chance. \n",
    "\n",
    "**Try running\n",
    "KNN for several values of K and summarize the results for the best model you find.\n",
    "Out of all the classification methods we tried, which performs best on the Smarket data? Give\n",
    "some explanation for why that might be.**"
   ]
  },
  {
   "cell_type": "markdown",
   "id": "11670164-eea7-4dd7-b672-9ee883467af6",
   "metadata": {},
   "source": [
    "*These exercises were adapted from :* James, Gareth, et al. An Introduction to Statistical Learning: with Applications in Python, Springer, 2023."
   ]
  }
 ],
 "metadata": {
  "kernelspec": {
   "display_name": "dsi",
   "language": "python",
   "name": "dsi"
  },
  "language_info": {
   "codemirror_mode": {
    "name": "ipython",
    "version": 3
   },
   "file_extension": ".py",
   "mimetype": "text/x-python",
   "name": "python",
   "nbconvert_exporter": "python",
   "pygments_lexer": "ipython3",
   "version": "3.12.3"
  },
  "vscode": {
   "interpreter": {
    "hash": "497a84dc8fec8cf8d24e7e87b6d954c9a18a327edc66feb9b9ea7e9e72cc5c7e"
   }
  }
 },
 "nbformat": 4,
 "nbformat_minor": 5
}
