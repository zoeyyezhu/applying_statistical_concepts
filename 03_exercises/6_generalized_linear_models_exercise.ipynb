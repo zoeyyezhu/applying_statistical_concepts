{
 "cells": [
  {
   "cell_type": "markdown",
   "metadata": {},
   "source": [
    "# Generalized Linear Models Exercise\n",
    "\n",
    "In this exercise, we will create a Poisson Regression on the `bikeshare` data provided.\n",
    "\n",
    "_Note: This is based on the bikershare exercise from the textbook._"
   ]
  },
  {
   "cell_type": "code",
   "execution_count": null,
   "metadata": {},
   "outputs": [],
   "source": [
    "import numpy as np\n",
    "import pandas as pd\n",
    "from matplotlib.pyplot import subplots\n",
    "import statsmodels.api as sm\n",
    "from ISLP import load_data\n",
    "from ISLP.models import (ModelSpec as MS, summarize)\n",
    "from ISLP.models import contrast"
   ]
  },
  {
   "cell_type": "code",
   "execution_count": null,
   "metadata": {},
   "outputs": [],
   "source": [
    "Bike = load_data('Bikeshare')\n",
    "Bike.shape, Bike.columns"
   ]
  },
  {
   "cell_type": "markdown",
   "metadata": {},
   "source": [
    "Fit the Linear Regression model to the data"
   ]
  },
  {
   "cell_type": "code",
   "execution_count": null,
   "metadata": {},
   "outputs": [],
   "source": [
    "# Your code here\n",
    "X = MS(['mnth', 'hr', 'workingday', 'temp', 'weathersit']).fit_transform(Bike) \n",
    "Y = Bike['bikers']\n",
    "M_lm = sm.OLS(Y, X).fit() \n",
    "summarize(M_lm)"
   ]
  },
  {
   "cell_type": "markdown",
   "metadata": {},
   "source": [
    "Let's see the fit for the Poisson Regression."
   ]
  },
  {
   "cell_type": "code",
   "execution_count": null,
   "metadata": {},
   "outputs": [],
   "source": [
    "M_pois = sm.GLM(Y, X, family=sm.families.Poisson()).fit()"
   ]
  },
  {
   "cell_type": "code",
   "execution_count": null,
   "metadata": {},
   "outputs": [],
   "source": [
    "summarize(M_pois)"
   ]
  },
  {
   "cell_type": "markdown",
   "metadata": {},
   "source": [
    "Compare the fitted model of Linear and Poisson Regressions."
   ]
  },
  {
   "cell_type": "code",
   "execution_count": null,
   "metadata": {},
   "outputs": [],
   "source": [
    "import matplotlib.pyplot as plt\n",
    "plt.figure(figsize=(10, 6))\n",
    "\n",
    "plt.scatter(Y.values, M_lm.fittedvalues.values, color='blue', label='Linear Regression')\n",
    "plt.scatter(Y.values, M_pois.fittedvalues.values, color='red', label='Poisson Regression')\n",
    "\n",
    "plt.plot([min(Y.values), max(Y.values)], [min(Y.values), max(Y.values)], \n",
    "         color='black', linestyle='--', label='Perfect Fit')\n",
    "\n",
    "plt.xlabel('True Labels')\n",
    "plt.ylabel('Fitted Values')\n",
    "plt.legend();"
   ]
  }
 ],
 "metadata": {
  "kernelspec": {
   "display_name": "dsi",
   "language": "python",
   "name": "dsi"
  },
  "language_info": {
   "codemirror_mode": {
    "name": "ipython",
    "version": 3
   },
   "file_extension": ".py",
   "mimetype": "text/x-python",
   "name": "python",
   "nbconvert_exporter": "python",
   "pygments_lexer": "ipython3",
   "version": "3.12.3"
  }
 },
 "nbformat": 4,
 "nbformat_minor": 4
}
